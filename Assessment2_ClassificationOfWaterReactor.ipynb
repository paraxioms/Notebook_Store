{
  "nbformat": 4,
  "nbformat_minor": 0,
  "metadata": {
    "colab": {
      "name": "Assessment2_ClassificationOfWaterReactor.ipynb",
      "provenance": [],
      "toc_visible": true,
      "include_colab_link": true
    },
    "kernelspec": {
      "name": "python3",
      "display_name": "Python 3"
    }
  },
  "cells": [
    {
      "cell_type": "markdown",
      "metadata": {
        "id": "view-in-github",
        "colab_type": "text"
      },
      "source": [
        "<a href=\"https://colab.research.google.com/github/paraxioms/NotebookStored/blob/main/Assessment2_ClassificationOfWaterReactor.ipynb\" target=\"_parent\"><img src=\"https://colab.research.google.com/assets/colab-badge.svg\" alt=\"Open In Colab\"/></a>"
      ]
    },
    {
      "cell_type": "markdown",
      "metadata": {
        "id": "R4J-vxzKMeIl"
      },
      "source": [
        "# Assessment 2: Classification of Pressurised Water Reactor Status "
      ]
    },
    {
      "cell_type": "markdown",
      "metadata": {
        "id": "KDKNFzKvM-PS"
      },
      "source": [
        "To save time/space and to avoid repition we have combined the code and the report into this notebook. The markdown cells contain the text previously in the report."
      ]
    },
    {
      "cell_type": "markdown",
      "metadata": {
        "id": "N8uYB3lFMfoO"
      },
      "source": [
        "## Task 1 - Description of Distributed Learning Big Data Ecosystem "
      ]
    },
    {
      "cell_type": "markdown",
      "metadata": {
        "id": "Nl6TDxb7Mfqr"
      },
      "source": [
        "Dealing with big data is a difficult task thats requires a distributed learning environment/ecosystem. \n",
        "\n",
        "Distributed file systems such as HDFS are essential for big data. They allow files on the file system to be accessed from multiple different hosts/computers. This makes it possible for people to share files and to access files stored somewhere else. Apache owns HDFS an example of a distributed file system, written in Java.\n",
        "\n",
        "A resource manager and scheduler is also essential when working with big data. Applications on distribute learning ecosystems such as Spark run as independent sets of processes on a cluster, for this to work effectively a manager is needed to allocate resources across applications.\n",
        "\n",
        "When thinking of Big Data we consider its characteristics. The main three being Voume, Velocity and Variety. Voume refers to the size and quantity of the data, velocity refers to the processing speed of the data and variety refers to all the different possible data formats that exist. Other big data characteristics include Value and Veracity. Value refers to what can be gained from making use of the data and veracity refers to the data quality. \n",
        "\n",
        "Fault tolerance and resiliance is very important in a distributed environment, if one processes fails in a cluster it shouldn't result in the failure of the whole cluster itself. Big data ecosystems should make use of fault tolerance clusters. As well as this the storage of the data is important, as it is located in several places it is important to use resisilient distributed datasets that can be automatically rebuilt in the event of failure.\n",
        "\n",
        "A data lake is a repositary stored in its raw format, where data can be collected/organised without having to have the data structured. This data can then be used later to perform analysis/visualisations etc. This makes it easier to harness the power of big data, without having to worry and plan how the data is organised/stricuted. \n",
        "\n",
        "Apache Spark is a cluster computing system, that has the features in place to be act as a big data ecosystem. \n",
        "\n",
        "Apache Hive is a data warehouse that allows big data in distributed storage to be read, written and managed using SQL.\n",
        "\n",
        "SparkML and PySpark are packages used in Spark which provide APIs that allow machine learning pipelines to be used and created, as well as other data science related analysis.\n",
        "\n",
        "Spark SQL provides data frames and acts as a distrubuted SQL query engine. It is well integrated with SparkML and other Spark packages providing the essential tools required to work with the data.\n",
        "\n",
        "Docker containers such as Kubernetes allow the user to organise applications into containers groups which are then run by using the Docker engine. This is responsible for running the whole application correctly.\n",
        "\n",
        "Together these parts are used to make a distributed learning ecosystem.\n",
        "\n",
        "\n",
        "\n"
      ]
    },
    {
      "cell_type": "markdown",
      "metadata": {
        "id": "Z5l4clvmMf0i"
      },
      "source": [
        "## Task 2 - Develop distributed models in Apache spark to classify nuclear reactors "
      ]
    },
    {
      "cell_type": "markdown",
      "metadata": {
        "id": "xsW0ps8AO_fj"
      },
      "source": [
        "### Subtask 1"
      ]
    },
    {
      "cell_type": "markdown",
      "metadata": {
        "id": "BKWpCazmPEso"
      },
      "source": [
        "We begin by creating an apache spark environment"
      ]
    },
    {
      "cell_type": "code",
      "metadata": {
        "id": "Z14cjZAehIMm"
      },
      "source": [
        "import os       #importing os to set environment variable\n",
        "def install_java():\n",
        "  !apt-get install -y openjdk-8-jdk-headless -qq > /dev/null      #install openjdk\n",
        "  os.environ[\"JAVA_HOME\"] = \"/usr/lib/jvm/java-8-openjdk-amd64\"     #set environment variable\n",
        "  !java -version       #check java version\n",
        "install_java()"
      ],
      "execution_count": null,
      "outputs": []
    },
    {
      "cell_type": "code",
      "metadata": {
        "id": "uiDieqbchUGe"
      },
      "source": [
        "!wget -q https://www-us.apache.org/dist/spark/spark-2.4.5/spark-2.4.5-bin-hadoop2.7.tgz"
      ],
      "execution_count": null,
      "outputs": []
    },
    {
      "cell_type": "code",
      "metadata": {
        "id": "qHKk6J5ohXQH"
      },
      "source": [
        "!tar xf spark-2.4.5-bin-hadoop2.7.tgz"
      ],
      "execution_count": null,
      "outputs": []
    },
    {
      "cell_type": "code",
      "metadata": {
        "id": "aYjGqD7LhXT_"
      },
      "source": [
        "!pip install -q findspark\n"
      ],
      "execution_count": null,
      "outputs": []
    },
    {
      "cell_type": "code",
      "metadata": {
        "id": "VRKUy6j7hXXO"
      },
      "source": [
        "!ln -sf /opt/bin/nvidia-smi /usr/bin/nvidia-smi\n",
        "!pip install gputil\n",
        "!pip install psutil\n",
        "!pip install humanize\n",
        "import psutil\n",
        "import humanize\n",
        "import os\n",
        "import GPUtil as GPU\n",
        "GPUs = GPU.getGPUs()\n",
        "# XXX: only one GPU on Colab and isn’t guaranteed\n",
        "gpu = GPUs[0]\n",
        "def printm():\n",
        " process = psutil.Process(os.getpid())\n",
        " print(\"Gen RAM Free: \" + humanize.naturalsize( psutil.virtual_memory().available ), \" | Proc size: \" + humanize.naturalsize( process.memory_info().rss))\n",
        " print(\"GPU RAM Free: {0:.0f}MB | Used: {1:.0f}MB | Util {2:3.0f}% | Total {3:.0f}MB\".format(gpu.memoryFree, gpu.memoryUsed, gpu.memoryUtil*100, gpu.memoryTotal))\n",
        "printm() "
      ],
      "execution_count": null,
      "outputs": []
    },
    {
      "cell_type": "code",
      "metadata": {
        "id": "I7gjHrOohXZd"
      },
      "source": [
        "import os\n",
        "os.environ[\"SPARK_HOME\"] = \"/content/spark-2.4.5-bin-hadoop2.7\"\n",
        "import findspark\n",
        "findspark.init()\n"
      ],
      "execution_count": null,
      "outputs": []
    },
    {
      "cell_type": "code",
      "metadata": {
        "id": "73Kl8Mm0hXb7"
      },
      "source": [
        "from pyspark.sql import SparkSession\n",
        "spark = SparkSession.builder \\\n",
        "    .master(\"local[*]\") \\\n",
        "    .appName(\"Learning_Spark\") \\\n",
        "    .getOrCreate()"
      ],
      "execution_count": null,
      "outputs": []
    },
    {
      "cell_type": "code",
      "metadata": {
        "id": "kRnl8Kyphplp",
        "colab": {
          "base_uri": "https://localhost:8080/",
          "height": 72
        },
        "outputId": "c1f14da4-6fbc-4fc6-f544-357cfc3e7f5c"
      },
      "source": [
        "from pyspark.ml.classification import LogisticRegression\n",
        "from pyspark.ml.evaluation import BinaryClassificationEvaluator\n",
        "from pyspark.ml.tuning import CrossValidator, ParamGridBuilder\n",
        "from pyspark.mllib.util import MLUtils\n",
        "from pyspark.ml.feature import VectorAssembler\n",
        "from pyspark.ml.feature import StringIndexer #I believe this is similar to a label encoder\n",
        "from pyspark.mllib.evaluation import BinaryClassificationMetrics\n",
        "from pyspark.ml.classification import GBTClassifier\n",
        "from pyspark.ml import Pipeline\n",
        "from pyspark.ml.feature import StandardScaler\n",
        "\n",
        "#from pyspark import SparkContext\n",
        "from pyspark.mllib.evaluation import MulticlassMetrics\n",
        "\n",
        "import seaborn as sns\n",
        "#import pandas as pd\n",
        "import matplotlib.pyplot as plt"
      ],
      "execution_count": null,
      "outputs": [
        {
          "output_type": "stream",
          "text": [
            "/usr/local/lib/python3.6/dist-packages/statsmodels/tools/_testing.py:19: FutureWarning: pandas.util.testing is deprecated. Use the functions in the public API at pandas.testing instead.\n",
            "  import pandas.util.testing as tm\n"
          ],
          "name": "stderr"
        }
      ]
    },
    {
      "cell_type": "code",
      "metadata": {
        "id": "Trc3RcvWqxc-"
      },
      "source": [
        "#sc = SparkContext(appName=\"BinaryClassification\")"
      ],
      "execution_count": null,
      "outputs": []
    },
    {
      "cell_type": "code",
      "metadata": {
        "id": "MJfq1auEhpoY"
      },
      "source": [
        "from google.colab import files\n",
        "files.upload()"
      ],
      "execution_count": null,
      "outputs": []
    },
    {
      "cell_type": "code",
      "metadata": {
        "id": "Wm6KF5ifhpqF"
      },
      "source": [
        "data = spark.read.csv('DMV_CS551G_Assignment 2-dataset-nuclear_plants.csv',inferSchema=True, header=True)"
      ],
      "execution_count": null,
      "outputs": []
    },
    {
      "cell_type": "code",
      "metadata": {
        "id": "mz3kXlYQhpr-",
        "outputId": "a8d74109-ce91-4d4c-a119-2537a3023c47",
        "colab": {
          "base_uri": "https://localhost:8080/",
          "height": 34
        }
      },
      "source": [
        "data.count(), len(data.columns)"
      ],
      "execution_count": null,
      "outputs": [
        {
          "output_type": "execute_result",
          "data": {
            "text/plain": [
              "(996, 13)"
            ]
          },
          "metadata": {
            "tags": []
          },
          "execution_count": 13
        }
      ]
    },
    {
      "cell_type": "code",
      "metadata": {
        "id": "Pzzw0XKKkAcb",
        "outputId": "4ec5b402-068e-4775-b4b6-d3b860fa0234",
        "colab": {
          "base_uri": "https://localhost:8080/",
          "height": 283
        }
      },
      "source": [
        "data.printSchema()"
      ],
      "execution_count": null,
      "outputs": [
        {
          "output_type": "stream",
          "text": [
            "root\n",
            " |-- Status: string (nullable = true)\n",
            " |-- Power_range_sensor_1: double (nullable = true)\n",
            " |-- Power_range_sensor_2: double (nullable = true)\n",
            " |-- Power_range_sensor_3 : double (nullable = true)\n",
            " |-- Power_range_sensor_4: double (nullable = true)\n",
            " |-- Pressure _sensor_1: double (nullable = true)\n",
            " |-- Pressure _sensor_2: double (nullable = true)\n",
            " |-- Pressure _sensor_3: double (nullable = true)\n",
            " |-- Pressure _sensor_4: double (nullable = true)\n",
            " |-- Vibration_sensor_1: double (nullable = true)\n",
            " |-- Vibration_sensor_2: double (nullable = true)\n",
            " |-- Vibration_sensor_3: double (nullable = true)\n",
            " |-- Vibration_sensor_4: double (nullable = true)\n",
            "\n"
          ],
          "name": "stdout"
        }
      ]
    },
    {
      "cell_type": "code",
      "metadata": {
        "id": "f6bVUOl9i7cu",
        "outputId": "7aee3d1c-923a-4933-f34a-0adc078e87a5",
        "colab": {
          "base_uri": "https://localhost:8080/",
          "height": 232
        }
      },
      "source": [
        "data.show(5)"
      ],
      "execution_count": null,
      "outputs": [
        {
          "output_type": "stream",
          "text": [
            "+------+--------------------+--------------------+---------------------+--------------------+------------------+------------------+------------------+------------------+------------------+------------------+------------------+------------------+\n",
            "|Status|Power_range_sensor_1|Power_range_sensor_2|Power_range_sensor_3 |Power_range_sensor_4|Pressure _sensor_1|Pressure _sensor_2|Pressure _sensor_3|Pressure _sensor_4|Vibration_sensor_1|Vibration_sensor_2|Vibration_sensor_3|Vibration_sensor_4|\n",
            "+------+--------------------+--------------------+---------------------+--------------------+------------------+------------------+------------------+------------------+------------------+------------------+------------------+------------------+\n",
            "|Normal|              4.5044|              0.7443|                 6.34|              1.9052|           29.5315|            0.8647|            2.2044|             6.048|           14.4659|            21.648|           15.3429|            1.2186|\n",
            "|Normal|              4.4284|              0.9073|               5.6433|              1.6232|           27.5032|            1.4704|            1.9929|            5.9856|           20.8356|            0.0646|           14.8813|            7.3483|\n",
            "|Normal|              4.5291|              1.0199|                6.113|              1.0565|           26.4271|            1.9247|             1.942|            6.7162|            5.3358|           11.0779|           25.0914|            9.2408|\n",
            "|Normal|              5.1727|              1.0007|               7.8589|              0.2765|           25.1576|             2.609|            2.9234|            6.7485|            1.9017|            1.8463|            28.664|            4.0157|\n",
            "|Normal|              5.2258|              0.6125|               7.9504|              0.1547|           24.0765|            3.2113|            4.4563|            5.8411|            0.5077|              9.37|           34.8122|           13.4966|\n",
            "+------+--------------------+--------------------+---------------------+--------------------+------------------+------------------+------------------+------------------+------------------+------------------+------------------+------------------+\n",
            "only showing top 5 rows\n",
            "\n"
          ],
          "name": "stdout"
        }
      ]
    },
    {
      "cell_type": "code",
      "metadata": {
        "id": "ZP-VJ-rfkAmZ"
      },
      "source": [
        "#targets = data.select(\"Status\")\n",
        "#targets.show(5)"
      ],
      "execution_count": null,
      "outputs": []
    },
    {
      "cell_type": "code",
      "metadata": {
        "id": "nwPh5ERNkAq0",
        "outputId": "2e4a6aec-2512-4401-ba5c-6c4a0a4c0c76",
        "colab": {
          "base_uri": "https://localhost:8080/",
          "height": 232
        }
      },
      "source": [
        "df = data.drop(\"Status\")\n",
        "df.show(5)"
      ],
      "execution_count": null,
      "outputs": [
        {
          "output_type": "stream",
          "text": [
            "+--------------------+--------------------+---------------------+--------------------+------------------+------------------+------------------+------------------+------------------+------------------+------------------+------------------+\n",
            "|Power_range_sensor_1|Power_range_sensor_2|Power_range_sensor_3 |Power_range_sensor_4|Pressure _sensor_1|Pressure _sensor_2|Pressure _sensor_3|Pressure _sensor_4|Vibration_sensor_1|Vibration_sensor_2|Vibration_sensor_3|Vibration_sensor_4|\n",
            "+--------------------+--------------------+---------------------+--------------------+------------------+------------------+------------------+------------------+------------------+------------------+------------------+------------------+\n",
            "|              4.5044|              0.7443|                 6.34|              1.9052|           29.5315|            0.8647|            2.2044|             6.048|           14.4659|            21.648|           15.3429|            1.2186|\n",
            "|              4.4284|              0.9073|               5.6433|              1.6232|           27.5032|            1.4704|            1.9929|            5.9856|           20.8356|            0.0646|           14.8813|            7.3483|\n",
            "|              4.5291|              1.0199|                6.113|              1.0565|           26.4271|            1.9247|             1.942|            6.7162|            5.3358|           11.0779|           25.0914|            9.2408|\n",
            "|              5.1727|              1.0007|               7.8589|              0.2765|           25.1576|             2.609|            2.9234|            6.7485|            1.9017|            1.8463|            28.664|            4.0157|\n",
            "|              5.2258|              0.6125|               7.9504|              0.1547|           24.0765|            3.2113|            4.4563|            5.8411|            0.5077|              9.37|           34.8122|           13.4966|\n",
            "+--------------------+--------------------+---------------------+--------------------+------------------+------------------+------------------+------------------+------------------+------------------+------------------+------------------+\n",
            "only showing top 5 rows\n",
            "\n"
          ],
          "name": "stdout"
        }
      ]
    },
    {
      "cell_type": "markdown",
      "metadata": {
        "id": "iuCtaNcsPcch"
      },
      "source": [
        "Below we provide the summary table required for this subtask. We can see that there are no missing values from the counts."
      ]
    },
    {
      "cell_type": "code",
      "metadata": {
        "id": "qM1PhECrkAtJ",
        "outputId": "9eeb0791-0610-460d-e6cd-85fdc3697b44",
        "colab": {
          "base_uri": "https://localhost:8080/",
          "height": 267
        }
      },
      "source": [
        "df.summary().show()"
      ],
      "execution_count": null,
      "outputs": [
        {
          "output_type": "stream",
          "text": [
            "+-------+--------------------+--------------------+---------------------+--------------------+------------------+------------------+------------------+------------------+------------------+------------------+------------------+------------------+\n",
            "|summary|Power_range_sensor_1|Power_range_sensor_2|Power_range_sensor_3 |Power_range_sensor_4|Pressure _sensor_1|Pressure _sensor_2|Pressure _sensor_3|Pressure _sensor_4|Vibration_sensor_1|Vibration_sensor_2|Vibration_sensor_3|Vibration_sensor_4|\n",
            "+-------+--------------------+--------------------+---------------------+--------------------+------------------+------------------+------------------+------------------+------------------+------------------+------------------+------------------+\n",
            "|  count|                 996|                 996|                  996|                 996|               996|               996|               996|               996|               996|               996|               996|               996|\n",
            "|   mean|  4.9995738935742935|   6.379273152610441|    9.228112114457822|    7.35527208634539| 14.19912681726909|3.0779579618473885| 5.749233845381525| 4.997002126506029| 8.164562875502007|10.001592885542157|15.187981682730923|  9.93359113253011|\n",
            "| stddev|  2.7648555187192883|   2.312568802265547|   2.5321728908943326|   4.354778181006018|11.680045382938973|2.1260909561041483|2.5261356617270905| 4.165489943788825| 6.173261395362337| 7.336232686802312|12.159624740968098| 7.282383326906685|\n",
            "|    min|              0.0082|              0.0403|             2.583966|              0.0623|            0.0248|          0.008262|          0.001224|            0.0058|               0.0|            0.0185|            0.0646|            0.0092|\n",
            "|    25%|              2.8894|              4.9283|               7.5018|            3.425364|            5.0037|            1.4149|            4.0054|            1.5721|            3.1849|            3.9973|             5.502|            3.8219|\n",
            "|    50%|              4.8788|              6.4691|               9.3347|              7.0633|           11.7085|          2.671788|            5.7394|            3.8586|            6.7483|            8.7792|           12.1672|            8.8438|\n",
            "|    75%|              6.7877|              8.0988|              11.0468|             10.9103|           20.2629|            4.5025|            7.4988|            7.5993|           11.2533|          14.67984|           21.8327|           14.3551|\n",
            "|    max|             12.1298|             11.9284|              15.7599|           17.235858|           67.9794|         10.242738|           12.6475|          16.55562|         36.186438|           34.8676|           53.2384|           43.2314|\n",
            "+-------+--------------------+--------------------+---------------------+--------------------+------------------+------------------+------------------+------------------+------------------+------------------+------------------+------------------+\n",
            "\n"
          ],
          "name": "stdout"
        }
      ]
    },
    {
      "cell_type": "markdown",
      "metadata": {
        "id": "1ez055blQLYG"
      },
      "source": [
        "### Subtask 2"
      ]
    },
    {
      "cell_type": "markdown",
      "metadata": {
        "id": "LWDIUyAZQTNx"
      },
      "source": [
        "We provide the two graphs required for this subtask below."
      ]
    },
    {
      "cell_type": "code",
      "metadata": {
        "id": "k1KpFX0i1W7K",
        "outputId": "e0a18da4-9603-4a67-d4bd-87a4b4099fd0",
        "colab": {
          "base_uri": "https://localhost:8080/",
          "height": 387
        }
      },
      "source": [
        "f, ax = plt.subplots(figsize=(8, 6));\n",
        "sns.boxplot(x=data.toPandas()['Status'], y=data.toPandas()[\"Vibration_sensor_1\"]);"
      ],
      "execution_count": null,
      "outputs": [
        {
          "output_type": "display_data",
          "data": {
            "image/png": "[encoded data removed]",
            "text/plain": [
              "<Figure size 576x432 with 1 Axes>"
            ]
          },
          "metadata": {
            "tags": [],
            "needs_background": "light"
          }
        }
      ]
    },
    {
      "cell_type": "markdown",
      "metadata": {
        "id": "gSzHwgwdQd6E"
      },
      "source": [
        "From this graph we can see the distribution of the sensor measurements for the two classes. We can see the median, quartiles potential outliers and the maximum and minimum value. We can see there is a difference between normal and abnormal but honestly not very much. The normal box plot has a higher range and inter-quartile range, the abnormal box plot has more outliers on the upper end. I do not think vibration_sensor_1 is a good indicator on its own, others sensor measurements have a much more noticeable difference."
      ]
    },
    {
      "cell_type": "code",
      "metadata": {
        "id": "hC0ypyMlAZgA",
        "outputId": "044c2338-c2a2-44c8-84df-f28492393ec7",
        "colab": {
          "base_uri": "https://localhost:8080/",
          "height": 224
        }
      },
      "source": [
        "f = sns.FacetGrid(data.toPandas(), hue = \"Status\", aspect=3 );\n",
        "f.map(sns.kdeplot, \"Vibration_sensor_2\", shade= True );\n",
        "f.add_legend();"
      ],
      "execution_count": null,
      "outputs": [
        {
          "output_type": "display_data",
          "data": {
            "image/png": "[encoded data removed]",
            "text/plain": [
              "<Figure size 732.125x216 with 1 Axes>"
            ]
          },
          "metadata": {
            "tags": [],
            "needs_background": "light"
          }
        }
      ]
    },
    {
      "cell_type": "markdown",
      "metadata": {
        "id": "v2RcWnx7SslO"
      },
      "source": [
        "From the density plot we can see the kernel density estimate of the two classes, showing how their distributions differ. In my opinion this is more useful than the box plot, as it gives a more detailed look into the data dsitribution. It's a smoothed version of a histogram, where the higher the y axis the higher the frequency of that measurement value."
      ]
    },
    {
      "cell_type": "markdown",
      "metadata": {
        "id": "5LNjeTRHD7ns"
      },
      "source": [
        "### Subtask 3"
      ]
    },
    {
      "cell_type": "markdown",
      "metadata": {
        "id": "G3HR9shrV9ad"
      },
      "source": [
        "Logistic Regression is a model used for classificaiton. It is similar to linear regression in some ways, with the main difference being that it uses the sigmoid function to map a continuos input to a value between 0 and 1, which can then in turn be mapped to the class 0 or 1, depending on whether it is above or below a predefined threshold. Like linear regression it minimises its cost function using gradient descent. Normally cross entropy is used as the cost function."
      ]
    },
    {
      "cell_type": "code",
      "metadata": {
        "id": "8SXBvsQtu9DJ",
        "outputId": "015d3489-5768-4cbc-e521-81d84ec60d53",
        "colab": {
          "base_uri": "https://localhost:8080/",
          "height": 265
        }
      },
      "source": [
        "assembler = VectorAssembler(inputCols= df.columns,\n",
        "                            outputCol = \"dataArray\")\n",
        "fullData = assembler.transform(data)\n",
        "fullData.columns"
      ],
      "execution_count": null,
      "outputs": [
        {
          "output_type": "execute_result",
          "data": {
            "text/plain": [
              "['Status',\n",
              " 'Power_range_sensor_1',\n",
              " 'Power_range_sensor_2',\n",
              " 'Power_range_sensor_3 ',\n",
              " 'Power_range_sensor_4',\n",
              " 'Pressure _sensor_1',\n",
              " 'Pressure _sensor_2',\n",
              " 'Pressure _sensor_3',\n",
              " 'Pressure _sensor_4',\n",
              " 'Vibration_sensor_1',\n",
              " 'Vibration_sensor_2',\n",
              " 'Vibration_sensor_3',\n",
              " 'Vibration_sensor_4',\n",
              " 'dataArray']"
            ]
          },
          "metadata": {
            "tags": []
          },
          "execution_count": 21
        }
      ]
    },
    {
      "cell_type": "code",
      "metadata": {
        "id": "r7B_n7d6GEZv"
      },
      "source": [
        "labelEncode = StringIndexer(inputCol=\"Status\", outputCol=\"status_label\")\n",
        "fullData = labelEncode.fit(fullData).transform(fullData)"
      ],
      "execution_count": null,
      "outputs": []
    },
    {
      "cell_type": "code",
      "metadata": {
        "id": "WZek6lcIGu_W",
        "outputId": "97fec443-75db-4eca-ef64-2f336dce248c",
        "colab": {
          "base_uri": "https://localhost:8080/",
          "height": 498
        }
      },
      "source": [
        "fullData.show()"
      ],
      "execution_count": null,
      "outputs": [
        {
          "output_type": "stream",
          "text": [
            "+------+--------------------+--------------------+---------------------+--------------------+------------------+------------------+------------------+------------------+------------------+------------------+------------------+------------------+--------------------+------------+\n",
            "|Status|Power_range_sensor_1|Power_range_sensor_2|Power_range_sensor_3 |Power_range_sensor_4|Pressure _sensor_1|Pressure _sensor_2|Pressure _sensor_3|Pressure _sensor_4|Vibration_sensor_1|Vibration_sensor_2|Vibration_sensor_3|Vibration_sensor_4|           dataArray|status_label|\n",
            "+------+--------------------+--------------------+---------------------+--------------------+------------------+------------------+------------------+------------------+------------------+------------------+------------------+------------------+--------------------+------------+\n",
            "|Normal|              4.5044|              0.7443|                 6.34|              1.9052|           29.5315|            0.8647|            2.2044|             6.048|           14.4659|            21.648|           15.3429|            1.2186|[4.5044,0.7443,6....|         0.0|\n",
            "|Normal|              4.4284|              0.9073|               5.6433|              1.6232|           27.5032|            1.4704|            1.9929|            5.9856|           20.8356|            0.0646|           14.8813|            7.3483|[4.4284,0.9073,5....|         0.0|\n",
            "|Normal|              4.5291|              1.0199|                6.113|              1.0565|           26.4271|            1.9247|             1.942|            6.7162|            5.3358|           11.0779|           25.0914|            9.2408|[4.5291,1.0199,6....|         0.0|\n",
            "|Normal|              5.1727|              1.0007|               7.8589|              0.2765|           25.1576|             2.609|            2.9234|            6.7485|            1.9017|            1.8463|            28.664|            4.0157|[5.1727,1.0007,7....|         0.0|\n",
            "|Normal|              5.2258|              0.6125|               7.9504|              0.1547|           24.0765|            3.2113|            4.4563|            5.8411|            0.5077|              9.37|           34.8122|           13.4966|[5.2258,0.6125,7....|         0.0|\n",
            "|Normal|              4.8834|              0.5786|               5.6021|              0.5942|           21.0365|            2.6275|            4.3996|            5.3487|            3.6465|            9.3793|           36.2431|            11.124|[4.8834,0.5786,5....|         0.0|\n",
            "|Normal|              5.7422|              0.8862|               5.1013|              0.9402|           15.5171|              2.92|            2.7061|            5.0366|            9.1854|            9.1116|           27.3162|            2.8526|[5.7422,0.8862,5....|         0.0|\n",
            "|Normal|              6.5076|              0.5438|                7.153|              0.6711|           11.1481|            4.2967|            3.5731|            4.6123|           14.7705|            8.0038|           24.9714|            2.1417|[6.5076,0.5438,7....|         0.0|\n",
            "|Normal|               5.625|              0.0403|               7.7087|              0.3214|            8.7975|            2.3293|             4.788|             5.203|            4.3388|            2.4187|           20.9187|            2.1233|[5.625,0.0403,7.7...|         0.0|\n",
            "|Normal|              4.9942|              0.4092|               6.2604|              0.6931|             6.189|            0.1537|            2.4934|            5.6573|            9.8132|           13.3581|           23.5036|            0.7478|[4.9942,0.4092,6....|         0.0|\n",
            "|Normal|              5.9079|              0.9229|               5.3613|              0.3516|            4.0913|            1.1409|            1.4172|            4.4551|            8.1422|            9.8039|           20.7987|            0.1108|[5.9079,0.9229,5....|         0.0|\n",
            "|Normal|              6.4215|              0.5978|               5.5765|              1.1847|            1.3588|            2.2807|            2.8529|            4.5002|             0.997|            8.7331|           27.2793|             2.114|[6.4215,0.5978,5....|         0.0|\n",
            "|Normal|              5.9253|              0.2161|               6.2439|              0.8835|            4.0169|            1.3687|            3.9973|            5.3891|           18.1585|           14.4843|           25.4514|            5.9267|[5.9253,0.2161,6....|         0.0|\n",
            "|Normal|              5.5783|              0.6262|               6.3556|              0.6747|            9.9827|            1.3455|            5.7394|            4.1904|           16.6814|           16.8661|           23.3743|            2.6033|[5.5783,0.6262,6....|         0.0|\n",
            "|Normal|               5.495|              0.4971|               5.2286|              1.1902|           14.9418|            1.6808|            6.9821|            2.7535|              11.0|           16.3399|             7.136|            6.4898|[5.495,0.4971,5.2...|         0.0|\n",
            "|Normal|              5.6332|              0.5182|               4.3826|              1.8375|           19.1719|            2.3223|             6.841|            3.5384|           13.7643|            20.014|            4.0804|           20.5402|[5.6332,0.5182,4....|         0.0|\n",
            "|Normal|              5.8438|              1.1902|               5.1022|              2.0297|           20.4563|            3.9257|            9.0478|            3.8586|           12.3057|           17.4384|           29.7256|           21.8234|[5.8438,1.1902,5....|         0.0|\n",
            "|Normal|              5.4053|              1.8027|               5.9399|              1.5262|           18.5719|             3.669|           11.0384|            3.5604|           10.6625|           10.4963|           24.8606|           16.2476|[5.4053,1.8027,5....|         0.0|\n",
            "|Normal|              5.2075|              1.4804|               5.8466|              1.1105|           16.7172|            2.6032|            8.9125|            4.2609|           20.7064|             7.893|            7.0806|           24.1498|[5.2075,1.4804,5....|         0.0|\n",
            "|Normal|              6.0489|              0.9576|               5.3467|              1.5335|           15.4675|            3.7974|            7.7415|            4.0424|           23.3928|            3.3972|             17.54|           27.5655|[6.0489,0.9576,5....|         0.0|\n",
            "+------+--------------------+--------------------+---------------------+--------------------+------------------+------------------+------------------+------------------+------------------+------------------+------------------+------------------+--------------------+------------+\n",
            "only showing top 20 rows\n",
            "\n"
          ],
          "name": "stdout"
        }
      ]
    },
    {
      "cell_type": "code",
      "metadata": {
        "id": "lD0Uv6Q8weex",
        "outputId": "2fd24057-b281-472c-8737-fb9c3610a509",
        "colab": {
          "base_uri": "https://localhost:8080/",
          "height": 212
        }
      },
      "source": [
        "model_data = fullData.select(\"dataArray\", \"status_label\")\n",
        "model_data.show(5,truncate=False)"
      ],
      "execution_count": null,
      "outputs": [
        {
          "output_type": "stream",
          "text": [
            "+----------------------------------------------------------------------------------------+------------+\n",
            "|dataArray                                                                               |status_label|\n",
            "+----------------------------------------------------------------------------------------+------------+\n",
            "|[4.5044,0.7443,6.34,1.9052,29.5315,0.8647,2.2044,6.048,14.4659,21.648,15.3429,1.2186]   |0.0         |\n",
            "|[4.4284,0.9073,5.6433,1.6232,27.5032,1.4704,1.9929,5.9856,20.8356,0.0646,14.8813,7.3483]|0.0         |\n",
            "|[4.5291,1.0199,6.113,1.0565,26.4271,1.9247,1.942,6.7162,5.3358,11.0779,25.0914,9.2408]  |0.0         |\n",
            "|[5.1727,1.0007,7.8589,0.2765,25.1576,2.609,2.9234,6.7485,1.9017,1.8463,28.664,4.0157]   |0.0         |\n",
            "|[5.2258,0.6125,7.9504,0.1547,24.0765,3.2113,4.4563,5.8411,0.5077,9.37,34.8122,13.4966]  |0.0         |\n",
            "+----------------------------------------------------------------------------------------+------------+\n",
            "only showing top 5 rows\n",
            "\n"
          ],
          "name": "stdout"
        }
      ]
    },
    {
      "cell_type": "code",
      "metadata": {
        "id": "CouCMeIo5uk3",
        "outputId": "772eab0d-d08c-4e43-9f20-659bfa77354e",
        "colab": {
          "base_uri": "https://localhost:8080/",
          "height": 478
        }
      },
      "source": [
        "scaler = StandardScaler(inputCol=\"dataArray\", outputCol=\"scaledFeatures\",\n",
        "                            withStd=True, withMean=False)\n",
        "\n",
        "# Compute summary statistics by fitting the StandardScaler\n",
        "scalerModel = scaler.fit(model_data)\n",
        "\n",
        "# Normalize each feature to have unit standard deviation.\n",
        "scaledData = scalerModel.transform(model_data)\n",
        "scaledData.show()"
      ],
      "execution_count": null,
      "outputs": [
        {
          "output_type": "stream",
          "text": [
            "+--------------------+------------+--------------------+\n",
            "|           dataArray|status_label|      scaledFeatures|\n",
            "+--------------------+------------+--------------------+\n",
            "|[4.5044,0.7443,6....|         0.0|[1.62916288735640...|\n",
            "|[4.4284,0.9073,5....|         0.0|[1.60167501340224...|\n",
            "|[4.5291,1.0199,6....|         0.0|[1.63809644639150...|\n",
            "|[5.1727,1.0007,7....|         0.0|[1.87087533687693...|\n",
            "|[5.2258,0.6125,7....|         0.0|[1.89008068038963...|\n",
            "|[4.8834,0.5786,5....|         0.0|[1.76624057457513...|\n",
            "|[5.7422,0.8862,5....|         0.0|[2.07685355025706...|\n",
            "|[6.5076,0.5438,7....|         0.0|[2.35368537557955...|\n",
            "|[5.625,0.0403,7.7...|         0.0|[2.03446435515934...|\n",
            "|[4.9942,0.4092,6....|         0.0|[1.80631500133987...|\n",
            "|[5.9079,0.9229,5....|         0.0|[2.13678434912816...|\n",
            "|[6.4215,0.5978,5....|         0.0|[2.32254450784991...|\n",
            "|[5.9253,0.2161,6....|         0.0|[2.14307762553345...|\n",
            "|[5.5783,0.6262,6....|         0.0|[2.01757377997962...|\n",
            "|[5.495,0.4971,5.2...|         0.0|[1.98744562339566...|\n",
            "|[5.6332,0.5182,4....|         0.0|[2.03743015208598...|\n",
            "|[5.8438,1.1902,5....|         0.0|[2.11360049754314...|\n",
            "|[5.4053,1.8027,5....|         0.0|[1.95500269847872...|\n",
            "|[5.2075,1.4804,5....|         0.0|[1.88346188968752...|\n",
            "|[6.0489,0.9576,5....|         0.0|[2.18778158896415...|\n",
            "+--------------------+------------+--------------------+\n",
            "only showing top 20 rows\n",
            "\n"
          ],
          "name": "stdout"
        }
      ]
    },
    {
      "cell_type": "code",
      "metadata": {
        "id": "wzYHMvXjUN5M",
        "outputId": "117e07ec-06e4-406e-d26f-0ad0fef8b44b",
        "colab": {
          "base_uri": "https://localhost:8080/",
          "height": 232
        }
      },
      "source": [
        "model_data = scaledData.select(\"scaledFeatures\", \"status_label\")\n",
        "model_data.show(5,truncate=False)"
      ],
      "execution_count": null,
      "outputs": [
        {
          "output_type": "stream",
          "text": [
            "+--------------------------------------------------------------------------------------------------------------------------------------------------------------------------------------------------------------------------------------+------------+\n",
            "|scaledFeatures                                                                                                                                                                                                                        |status_label|\n",
            "+--------------------------------------------------------------------------------------------------------------------------------------------------------------------------------------------------------------------------------------+------------+\n",
            "|[1.6291628873564028,0.3218498836751728,2.5037784832143863,0.43749645121071834,2.528372025260846,0.40670884635362786,0.8726372195279792,1.4519300446321306,2.3433156436349054,2.9508333396982045,1.2617905837428387,0.167335327638901] |0.0         |\n",
            "|[1.6016750134022497,0.3923342730867718,2.228639292480086,0.3727399955937634,2.354716878084557,0.6915978809741811,0.7889124999080519,1.4369498140129102,3.3751365227548535,0.008805609467133409,1.2238288859245843,1.0090515247734582] |0.0         |\n",
            "|[1.6380964463915022,0.4410247163244777,2.4141321558185402,0.24260707574224435,2.262585386748756,0.9052764156086822,0.7687631465810812,1.612343347512949,0.8643405257403362,1.510025713869306,2.063501179889399,1.26892523850776]      |0.0         |\n",
            "|[1.8708753368769344,0.432722260639185,3.103619041282893,0.063493475099603,2.1538957405720076,1.2271347058362612,1.1572616800798832,1.6200975374007827,0.30805434570268697,0.25166868048248314,2.3573095889567637,0.5514266167729647]  |0.0         |\n",
            "|[1.8900806803896386,0.26485698475217434,3.1397540146605136,0.03552419746079054,2.061336168707744,1.5104245614610907,1.7640778630840743,1.4022600171462862,0.08224177909936067,1.2772223019665638,2.862933745209344,1.8533218307986143]|0.0         |\n",
            "+--------------------------------------------------------------------------------------------------------------------------------------------------------------------------------------------------------------------------------------+------------+\n",
            "only showing top 5 rows\n",
            "\n"
          ],
          "name": "stdout"
        }
      ]
    },
    {
      "cell_type": "markdown",
      "metadata": {
        "id": "IYKMxZW6DzJy"
      },
      "source": [
        "Creating the train test split:"
      ]
    },
    {
      "cell_type": "code",
      "metadata": {
        "id": "659r5ocP5xR5"
      },
      "source": [
        "train,test = model_data.randomSplit([0.75,0.25], seed=42)"
      ],
      "execution_count": null,
      "outputs": []
    },
    {
      "cell_type": "code",
      "metadata": {
        "id": "a1leGNWJ5BwU",
        "outputId": "a2d64fe8-9666-4389-8cdd-7ec1439bb6e2",
        "colab": {
          "base_uri": "https://localhost:8080/",
          "height": 212
        }
      },
      "source": [
        "train.show(5)"
      ],
      "execution_count": null,
      "outputs": [
        {
          "output_type": "stream",
          "text": [
            "+--------------------+------------+\n",
            "|      scaledFeatures|status_label|\n",
            "+--------------------+------------+\n",
            "|[0.00296579692663...|         1.0|\n",
            "|[0.03114086772963...|         0.0|\n",
            "|[0.03917890076591...|         1.0|\n",
            "|[0.04017497451420...|         1.0|\n",
            "|[0.04039994106156...|         0.0|\n",
            "+--------------------+------------+\n",
            "only showing top 5 rows\n",
            "\n"
          ],
          "name": "stdout"
        }
      ]
    },
    {
      "cell_type": "code",
      "metadata": {
        "id": "CjfggSAq5RLW",
        "outputId": "eac07f0d-2988-4b9b-e52d-a8fbb3aa89e8",
        "colab": {
          "base_uri": "https://localhost:8080/",
          "height": 34
        }
      },
      "source": [
        "train.count(), len(train.columns)"
      ],
      "execution_count": null,
      "outputs": [
        {
          "output_type": "execute_result",
          "data": {
            "text/plain": [
              "(735, 2)"
            ]
          },
          "metadata": {
            "tags": []
          },
          "execution_count": 29
        }
      ]
    },
    {
      "cell_type": "code",
      "metadata": {
        "id": "DjILPDGn5g0g",
        "outputId": "786bbbdd-4a41-4191-b4f7-fdeef08532ca",
        "colab": {
          "base_uri": "https://localhost:8080/",
          "height": 34
        }
      },
      "source": [
        "test.count(), len(test.columns)"
      ],
      "execution_count": null,
      "outputs": [
        {
          "output_type": "execute_result",
          "data": {
            "text/plain": [
              "(261, 2)"
            ]
          },
          "metadata": {
            "tags": []
          },
          "execution_count": 30
        }
      ]
    },
    {
      "cell_type": "code",
      "metadata": {
        "id": "0bznP4RUXf0g"
      },
      "source": [
        "lr = LogisticRegression(featuresCol='scaledFeatures', labelCol='status_label', maxIter=100 )"
      ],
      "execution_count": null,
      "outputs": []
    },
    {
      "cell_type": "code",
      "metadata": {
        "id": "WAjCky6DXf-i"
      },
      "source": [
        "lrModel = lr.fit(train)"
      ],
      "execution_count": null,
      "outputs": []
    },
    {
      "cell_type": "code",
      "metadata": {
        "id": "PMeAcjaOOh9h"
      },
      "source": [
        "predictionsLrModel = lrModel.transform(test)"
      ],
      "execution_count": null,
      "outputs": []
    },
    {
      "cell_type": "code",
      "metadata": {
        "id": "sBdr-eQ_P0-r",
        "outputId": "e8f70dc4-db1f-48f3-c31b-2011c61d5b45",
        "colab": {
          "base_uri": "https://localhost:8080/",
          "height": 212
        }
      },
      "source": [
        "predictionsLrModel.show(5)"
      ],
      "execution_count": null,
      "outputs": [
        {
          "output_type": "stream",
          "text": [
            "+--------------------+------------+--------------------+--------------------+----------+\n",
            "|      scaledFeatures|status_label|       rawPrediction|         probability|prediction|\n",
            "+--------------------+------------+--------------------+--------------------+----------+\n",
            "|[0.01383435761508...|         1.0|[-1.7975303242442...|[0.14215196289582...|       1.0|\n",
            "|[0.01425029254991...|         1.0|[-0.5344661787347...|[0.36947582651990...|       1.0|\n",
            "|[0.03077918517761...|         0.0|[-0.5493921906107...|[0.36600543690663...|       1.0|\n",
            "|[0.05859257342858...|         1.0|[-1.4693482824804...|[0.18704169203092...|       1.0|\n",
            "|[0.07429972329807...|         1.0|[0.36954624267533...|[0.59134933011726...|       0.0|\n",
            "+--------------------+------------+--------------------+--------------------+----------+\n",
            "only showing top 5 rows\n",
            "\n"
          ],
          "name": "stdout"
        }
      ]
    },
    {
      "cell_type": "code",
      "metadata": {
        "id": "t0G3QBu1P4Ny"
      },
      "source": [
        "predictionAndLabelsLR1 = predictionsLrModel.rdd.map(lambda lp: (lp.prediction, lp.status_label))"
      ],
      "execution_count": null,
      "outputs": []
    },
    {
      "cell_type": "code",
      "metadata": {
        "id": "8IIuttflP4Sg"
      },
      "source": [
        "metricsLR1 = BinaryClassificationMetrics(predictionAndLabelsLR1)"
      ],
      "execution_count": null,
      "outputs": []
    },
    {
      "cell_type": "code",
      "metadata": {
        "id": "8d8FMKKTP4RF",
        "outputId": "baa6a7b1-409c-40c5-bb10-a99f25d6bbfe",
        "colab": {
          "base_uri": "https://localhost:8080/",
          "height": 34
        }
      },
      "source": [
        "metricsLR1.areaUnderROC"
      ],
      "execution_count": null,
      "outputs": [
        {
          "output_type": "execute_result",
          "data": {
            "text/plain": [
              "0.7240133897110641"
            ]
          },
          "metadata": {
            "tags": []
          },
          "execution_count": 37
        }
      ]
    },
    {
      "cell_type": "markdown",
      "metadata": {
        "id": "XNteDRKFKjmf"
      },
      "source": [
        "### Making Improvements"
      ]
    },
    {
      "cell_type": "markdown",
      "metadata": {
        "id": "XnN5FRbgOilu"
      },
      "source": [
        "We set up a grid search to select the parameters of the logistic regression model.\n",
        "\n",
        "We then evaluate the best performing model found from the grid search. The grid search makes use of cross validation with 5 folds."
      ]
    },
    {
      "cell_type": "code",
      "metadata": {
        "id": "k1CZLJ17Jg1p"
      },
      "source": [
        "paramGrid = ParamGridBuilder() \\\n",
        "        .addGrid(lr.elasticNetParam, [0, 0.2, 0.4, 0.6, 0.8]) \\\n",
        "        .addGrid(lr.regParam, [0.3, 0.1, 0.01, 0]) \\\n",
        "        .build()"
      ],
      "execution_count": null,
      "outputs": []
    },
    {
      "cell_type": "code",
      "metadata": {
        "id": "apOU3JKSXgOh"
      },
      "source": [
        "   crossval = CrossValidator(estimator=lr,\n",
        "                              estimatorParamMaps=paramGrid,\n",
        "                              evaluator=BinaryClassificationEvaluator(labelCol='status_label'),\n",
        "                              numFolds=5,\n",
        "                              seed=42)"
      ],
      "execution_count": null,
      "outputs": []
    },
    {
      "cell_type": "code",
      "metadata": {
        "id": "S1C5dlglKfU1"
      },
      "source": [
        " cvModel = crossval.fit(train)"
      ],
      "execution_count": null,
      "outputs": []
    },
    {
      "cell_type": "code",
      "metadata": {
        "id": "Oj0NwgZ6N9ee",
        "outputId": "c132976a-042c-41b0-ce62-d39911ba68ab",
        "colab": {
          "base_uri": "https://localhost:8080/",
          "height": 34
        }
      },
      "source": [
        "cvModel.bestModel.getOrDefault(lr.tol)"
      ],
      "execution_count": null,
      "outputs": [
        {
          "output_type": "execute_result",
          "data": {
            "text/plain": [
              "1e-06"
            ]
          },
          "metadata": {
            "tags": []
          },
          "execution_count": 41
        }
      ]
    },
    {
      "cell_type": "code",
      "metadata": {
        "id": "-wNJPYI3Kzs6",
        "outputId": "70690617-f7ab-4e67-b444-024e86b32d46",
        "colab": {
          "base_uri": "https://localhost:8080/",
          "height": 496
        }
      },
      "source": [
        "trainingSummary = cvModel.bestModel.summary\n",
        "trainingSummary.roc.show()\n",
        "print(\"areaUnderROC: \" + str(trainingSummary.areaUnderROC))"
      ],
      "execution_count": null,
      "outputs": [
        {
          "output_type": "stream",
          "text": [
            "+-------------------+--------------------+\n",
            "|                FPR|                 TPR|\n",
            "+-------------------+--------------------+\n",
            "|                0.0|                 0.0|\n",
            "|                0.0|0.018970189701897018|\n",
            "|                0.0|0.037940379403794036|\n",
            "|0.00546448087431694|0.051490514905149054|\n",
            "|0.00546448087431694| 0.07046070460704607|\n",
            "|0.00819672131147541| 0.08672086720867209|\n",
            "|0.01092896174863388| 0.10298102981029811|\n",
            "|0.01092896174863388| 0.12195121951219512|\n",
            "|0.01912568306010929| 0.13279132791327913|\n",
            "|0.02185792349726776| 0.14905149051490515|\n",
            "| 0.0273224043715847| 0.16260162601626016|\n",
            "|0.03551912568306011| 0.17344173441734417|\n",
            "|0.04371584699453552|  0.1842818428184282|\n",
            "|0.04371584699453552|  0.2032520325203252|\n",
            "|0.04644808743169399| 0.21951219512195122|\n",
            "|0.05191256830601093| 0.23306233062330622|\n",
            "| 0.0546448087431694| 0.24932249322493225|\n",
            "|0.06557377049180328| 0.25745257452574527|\n",
            "|0.07923497267759563| 0.26287262872628725|\n",
            "|0.08469945355191257|  0.2764227642276423|\n",
            "+-------------------+--------------------+\n",
            "only showing top 20 rows\n",
            "\n",
            "areaUnderROC: 0.7861077791105779\n"
          ],
          "name": "stdout"
        }
      ]
    },
    {
      "cell_type": "code",
      "metadata": {
        "id": "l_Qk9ezQKz7p",
        "outputId": "a33c7bc0-dba8-414b-827e-86c985a4096c",
        "colab": {
          "base_uri": "https://localhost:8080/",
          "height": 478
        }
      },
      "source": [
        "pred = cvModel.transform(test)\n",
        "pred.show()"
      ],
      "execution_count": null,
      "outputs": [
        {
          "output_type": "stream",
          "text": [
            "+--------------------+------------+--------------------+--------------------+----------+\n",
            "|      scaledFeatures|status_label|       rawPrediction|         probability|prediction|\n",
            "+--------------------+------------+--------------------+--------------------+----------+\n",
            "|[0.01383435761508...|         1.0|[-1.7975303242442...|[0.14215196289582...|       1.0|\n",
            "|[0.01425029254991...|         1.0|[-0.5344661787347...|[0.36947582651990...|       1.0|\n",
            "|[0.03077918517761...|         0.0|[-0.5493921906107...|[0.36600543690663...|       1.0|\n",
            "|[0.05859257342858...|         1.0|[-1.4693482824804...|[0.18704169203092...|       1.0|\n",
            "|[0.07429972329807...|         1.0|[0.36954624267533...|[0.59134933011726...|       0.0|\n",
            "|[0.10796224178045...|         0.0|[-0.8644321814929...|[0.29641416845404...|       1.0|\n",
            "|[0.14405816047288...|         0.0|[-0.7389333039815...|[0.32323744483653...|       1.0|\n",
            "|[0.16655481520904...|         1.0|[-1.7914606208788...|[0.14289374043839...|       1.0|\n",
            "|[0.17085883757818...|         0.0|[-1.0340314279367...|[0.26230327460745...|       1.0|\n",
            "|[0.23507340459549...|         1.0|[-1.5253921751312...|[0.17866886615589...|       1.0|\n",
            "|[0.23939768118755...|         1.0|[-3.0739259303876...|[0.04419568966378...|       1.0|\n",
            "|[0.24418563481130...|         1.0|[0.30476277516420...|[0.57560640192820...|       0.0|\n",
            "|[0.25531171347679...|         0.0|[-1.2342396519508...|[0.22544024901940...|       1.0|\n",
            "|[0.28081033339479...|         0.0|[-2.1827903836167...|[0.10130659862853...|       1.0|\n",
            "|[0.29932848005864...|         0.0|[0.63482170537344...|[0.65358196385851...|       0.0|\n",
            "|[0.31376323071009...|         1.0|[-2.4505574765681...|[0.07939779155747...|       1.0|\n",
            "|[0.36591423788705...|         1.0|[-2.1427561581752...|[0.10501007548097...|       1.0|\n",
            "|[0.41293296965074...|         1.0|[-1.9197450377862...|[0.12789000061462...|       1.0|\n",
            "|[0.42421674190892...|         1.0|[-0.4247243777434...|[0.39538680256170...|       1.0|\n",
            "|[0.44306112623470...|         1.0|[-2.1425935712843...|[0.10502535685950...|       1.0|\n",
            "+--------------------+------------+--------------------+--------------------+----------+\n",
            "only showing top 20 rows\n",
            "\n"
          ],
          "name": "stdout"
        }
      ]
    },
    {
      "cell_type": "code",
      "metadata": {
        "id": "WrOSQOpurbYe"
      },
      "source": [
        "predictionAndLabels = pred.rdd.map(lambda lp: (lp.prediction, lp.status_label))"
      ],
      "execution_count": null,
      "outputs": []
    },
    {
      "cell_type": "code",
      "metadata": {
        "id": "rkSXV42IhTr1"
      },
      "source": [
        "metrics = BinaryClassificationMetrics(predictionAndLabels)"
      ],
      "execution_count": null,
      "outputs": []
    },
    {
      "cell_type": "markdown",
      "metadata": {
        "id": "BaOv63QUSiCf"
      },
      "source": [
        "### Logistic Regressions Results on the test data"
      ]
    },
    {
      "cell_type": "markdown",
      "metadata": {
        "id": "Wq_Q8y8VSq6J"
      },
      "source": [
        "Area Under Curve (AUROC) Score:"
      ]
    },
    {
      "cell_type": "code",
      "metadata": {
        "id": "a52JDgszidYk",
        "outputId": "82aa41c5-175e-4139-e318-dfa79c62c2e2",
        "colab": {
          "base_uri": "https://localhost:8080/",
          "height": 34
        }
      },
      "source": [
        "metrics.areaUnderROC"
      ],
      "execution_count": null,
      "outputs": [
        {
          "output_type": "execute_result",
          "data": {
            "text/plain": [
              "0.7240133897110641"
            ]
          },
          "metadata": {
            "tags": []
          },
          "execution_count": 46
        }
      ]
    },
    {
      "cell_type": "code",
      "metadata": {
        "id": "c_S0KOIbhi2Q"
      },
      "source": [
        "metrics2 = MulticlassMetrics(predictionAndLabels)"
      ],
      "execution_count": null,
      "outputs": []
    },
    {
      "cell_type": "markdown",
      "metadata": {
        "id": "MwIzlBgeSzor"
      },
      "source": [
        "Accuracy:"
      ]
    },
    {
      "cell_type": "code",
      "metadata": {
        "id": "7qwXhtUk0h1u",
        "outputId": "77102804-c95a-4108-fee8-f1cdab036e17",
        "colab": {
          "base_uri": "https://localhost:8080/",
          "height": 34
        }
      },
      "source": [
        "metrics2.accuracy"
      ],
      "execution_count": null,
      "outputs": [
        {
          "output_type": "execute_result",
          "data": {
            "text/plain": [
              "0.7241379310344828"
            ]
          },
          "metadata": {
            "tags": []
          },
          "execution_count": 48
        }
      ]
    },
    {
      "cell_type": "markdown",
      "metadata": {
        "id": "oNT8LJ1LTBiF"
      },
      "source": [
        "Precision and Recall Scores:"
      ]
    },
    {
      "cell_type": "code",
      "metadata": {
        "id": "FTGCVbje0iB3",
        "outputId": "392a47ec-f5a7-460a-e8e8-449039d4c599",
        "colab": {
          "base_uri": "https://localhost:8080/",
          "height": 87
        }
      },
      "source": [
        "print(\"Precision Normal:\", metrics2.precision(0))\n",
        "print(\"Precision Abnormal:\", metrics2.precision(1))\n",
        "print(\"Recall Normal:\", metrics2.recall(0))\n",
        "print(\"Recall Abnormal:\", metrics2.recall(1))"
      ],
      "execution_count": null,
      "outputs": [
        {
          "output_type": "stream",
          "text": [
            "Precision Normal: 0.7238805970149254\n",
            "Precision Abnormal: 0.7244094488188977\n",
            "Recall Normal: 0.7348484848484849\n",
            "Recall Abnormal: 0.7131782945736435\n"
          ],
          "name": "stdout"
        }
      ]
    },
    {
      "cell_type": "markdown",
      "metadata": {
        "id": "QzqU2KDlRdN0"
      },
      "source": [
        "### Subtask 5 Boosted Tree Classifier"
      ]
    },
    {
      "cell_type": "markdown",
      "metadata": {
        "id": "Ku2_1tE9THB5"
      },
      "source": [
        "Boosted Tree Classifiers are extrememly popular for classification.\n",
        "\n",
        "A tree classifier or decision tree is the most simple form of classification, where classifications are made in a pretty logical way, where the dataset is broken down into smaller subsets by making decisions based on feature values, until final class decisions are made at the tree nodes.\n",
        "\n",
        "A gradient boosted tree is similar but it goes through cycles of adding models into an ensemble (multiple models). It starts by beginning the ensemble by implementing a single model, then we use this ensemble to make predictions on the training data. These predictions can then be used to calculate the loss function. Next a new model is added to the ensemble where the parameters are chosen so that when it is added to the ensemble the loss function will be reduced, this is normally done using gradient descent. This new fitted model is then added to the ensemble and the cycle repeats for a predetermiend number of iterations.\n",
        "\n",
        "Boosted tree classifiers have been shown to perform extremely well.\n",
        "\n",
        "\n",
        "\n"
      ]
    },
    {
      "cell_type": "code",
      "metadata": {
        "id": "kA499GNyRlaL"
      },
      "source": [
        "gbt = GBTClassifier(featuresCol='scaledFeatures', labelCol='status_label', maxIter=100, maxDepth=5, maxBins=32 )"
      ],
      "execution_count": null,
      "outputs": []
    },
    {
      "cell_type": "code",
      "metadata": {
        "id": "Sj6xz7LVRlcg"
      },
      "source": [
        "treeModel = gbt.fit(train)"
      ],
      "execution_count": null,
      "outputs": []
    },
    {
      "cell_type": "code",
      "metadata": {
        "id": "Cr5T8t1bTyMK"
      },
      "source": [
        "predictionsTree = treeModel.transform(test)"
      ],
      "execution_count": null,
      "outputs": []
    },
    {
      "cell_type": "code",
      "metadata": {
        "id": "Cd0Xew_0V3Wy",
        "outputId": "527373f4-d68a-4a58-9fb9-eb27f9d8115a",
        "colab": {
          "base_uri": "https://localhost:8080/",
          "height": 212
        }
      },
      "source": [
        "predictionsTree.show(5)"
      ],
      "execution_count": null,
      "outputs": [
        {
          "output_type": "stream",
          "text": [
            "+--------------------+------------+--------------------+--------------------+----------+\n",
            "|      scaledFeatures|status_label|       rawPrediction|         probability|prediction|\n",
            "+--------------------+------------+--------------------+--------------------+----------+\n",
            "|[0.01383435761508...|         1.0|[-1.8500446562798...|[0.02412491865101...|       1.0|\n",
            "|[0.01425029254991...|         1.0|[-1.0366502463964...|[0.11171908450063...|       1.0|\n",
            "|[0.03077918517761...|         0.0|[1.75792408557326...|[0.97113534952958...|       0.0|\n",
            "|[0.05859257342858...|         1.0|[-1.6801725591265...|[0.03355802864319...|       1.0|\n",
            "|[0.07429972329807...|         1.0|[-0.5716259063161...|[0.24172382466187...|       1.0|\n",
            "+--------------------+------------+--------------------+--------------------+----------+\n",
            "only showing top 5 rows\n",
            "\n"
          ],
          "name": "stdout"
        }
      ]
    },
    {
      "cell_type": "code",
      "metadata": {
        "id": "_WDRXWEBTyRJ"
      },
      "source": [
        "predictionAndLabelsTree = predictionsTree.rdd.map(lambda lp: (lp.prediction, lp.status_label))"
      ],
      "execution_count": null,
      "outputs": []
    },
    {
      "cell_type": "code",
      "metadata": {
        "id": "lrPfpfjdTyXC"
      },
      "source": [
        "metricsGBT = BinaryClassificationMetrics(predictionAndLabelsTree)"
      ],
      "execution_count": null,
      "outputs": []
    },
    {
      "cell_type": "markdown",
      "metadata": {
        "id": "5K7YRjdRTxq1"
      },
      "source": [
        "### Boosted Tree Classifier Results"
      ]
    },
    {
      "cell_type": "code",
      "metadata": {
        "id": "Be-n616cTyUf",
        "outputId": "0574db4e-d485-4244-f3eb-dc8455103725",
        "colab": {
          "base_uri": "https://localhost:8080/",
          "height": 34
        }
      },
      "source": [
        "metricsGBT.areaUnderROC"
      ],
      "execution_count": null,
      "outputs": [
        {
          "output_type": "execute_result",
          "data": {
            "text/plain": [
              "0.9046863988724453"
            ]
          },
          "metadata": {
            "tags": []
          },
          "execution_count": 56
        }
      ]
    },
    {
      "cell_type": "code",
      "metadata": {
        "id": "YtsFzDdFTyPO"
      },
      "source": [
        "metricsGBT2 = MulticlassMetrics(predictionAndLabelsTree)"
      ],
      "execution_count": null,
      "outputs": []
    },
    {
      "cell_type": "code",
      "metadata": {
        "id": "_mYX7wh2Wi21",
        "outputId": "47db5c57-0810-40e2-c3df-9971b11af0f5",
        "colab": {
          "base_uri": "https://localhost:8080/",
          "height": 34
        }
      },
      "source": [
        "metricsGBT2.accuracy"
      ],
      "execution_count": null,
      "outputs": [
        {
          "output_type": "execute_result",
          "data": {
            "text/plain": [
              "0.9042145593869731"
            ]
          },
          "metadata": {
            "tags": []
          },
          "execution_count": 58
        }
      ]
    },
    {
      "cell_type": "code",
      "metadata": {
        "id": "CgIdF33bWjCG",
        "outputId": "8c15c2f7-51b0-45a5-e4b0-212bd1724752",
        "colab": {
          "base_uri": "https://localhost:8080/",
          "height": 87
        }
      },
      "source": [
        "print(\"Precision Normal:\", metricsGBT2.precision(0))\n",
        "print(\"Precision Abnormal:\", metricsGBT2.precision(1))\n",
        "print(\"Recall Normal:\", metricsGBT2.recall(0))\n",
        "print(\"Recall Abnormal:\", metricsGBT2.recall(1))"
      ],
      "execution_count": null,
      "outputs": [
        {
          "output_type": "stream",
          "text": [
            "Precision Normal: 0.9421487603305785\n",
            "Precision Abnormal: 0.8714285714285714\n",
            "Recall Normal: 0.8636363636363636\n",
            "Recall Abnormal: 0.9457364341085271\n"
          ],
          "name": "stdout"
        }
      ]
    },
    {
      "cell_type": "markdown",
      "metadata": {
        "id": "E_-JNwN6UKtX"
      },
      "source": [
        "The boosted tree classifier significantly outperforms the logistic regression model.\n",
        "\n",
        "This is not suprising as boosted tree classifiers are known to classify data extrememely well. However I was suprised at the extent that it outperformed logistic regression. "
      ]
    },
    {
      "cell_type": "markdown",
      "metadata": {
        "id": "qUXbOhA0jLjH"
      },
      "source": [
        "### Parameter tuning the boosted Tree"
      ]
    },
    {
      "cell_type": "markdown",
      "metadata": {
        "id": "tRdT8E4qFzg2"
      },
      "source": [
        "We used a grid search to select the parameters of the boostes tree shown above. We tuned these parameters one at a time, hence why we do not run the code the same way as for the logistic regression model.\n",
        "\n",
        "We have to tune the parameters one at a time as the boosted tree takes a long time to train. My technique is to start with a wide range of possible parameters values and then narrow the range based on which parameter value performed best the previous time."
      ]
    },
    {
      "cell_type": "code",
      "metadata": {
        "id": "p0AropiQjmXy"
      },
      "source": [
        "gbt2 = GBTClassifier(featuresCol='scaledFeatures', labelCol='status_label', maxIter=100, maxDepth=5)"
      ],
      "execution_count": null,
      "outputs": []
    },
    {
      "cell_type": "code",
      "metadata": {
        "id": "L9Bbl9yjjew2"
      },
      "source": [
        "paramGrid2 = ParamGridBuilder() \\\n",
        "        .addGrid(gbt2.maxBins, [10, 15, 20]) \\\n",
        "        .build()"
      ],
      "execution_count": null,
      "outputs": []
    },
    {
      "cell_type": "code",
      "metadata": {
        "id": "-3L08LnzjRt2"
      },
      "source": [
        "crossvalGBT = CrossValidator(estimator=gbt2,\n",
        "                              estimatorParamMaps=paramGrid2,\n",
        "                              evaluator=BinaryClassificationEvaluator(labelCol='status_label'),\n",
        "                              numFolds=5,\n",
        "                              seed=42)"
      ],
      "execution_count": null,
      "outputs": []
    },
    {
      "cell_type": "code",
      "metadata": {
        "id": "1FMkXzMvjRxf"
      },
      "source": [
        "cvModelGBT = crossvalGBT.fit(train)"
      ],
      "execution_count": null,
      "outputs": []
    },
    {
      "cell_type": "code",
      "metadata": {
        "id": "ohHMQxNTjR08",
        "outputId": "2177f3d0-dc81-45b6-92bd-a4f5e3c5f52e",
        "colab": {
          "base_uri": "https://localhost:8080/",
          "height": 34
        }
      },
      "source": [
        "cvModelGBT.bestModel.getOrDefault(gbt2.maxBins)"
      ],
      "execution_count": null,
      "outputs": [
        {
          "output_type": "execute_result",
          "data": {
            "text/plain": [
              "15"
            ]
          },
          "metadata": {
            "tags": []
          },
          "execution_count": 69
        }
      ]
    }
  ]
}